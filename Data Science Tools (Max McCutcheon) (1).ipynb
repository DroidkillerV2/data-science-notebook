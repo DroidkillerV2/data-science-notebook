{
 "cells": [
  {
   "cell_type": "markdown",
   "id": "4174ae6c-77c3-42d9-beb7-d8c368d8b809",
   "metadata": {},
   "source": [
    "# Data Science Tools and Techniques\n"
   ]
  },
  {
   "cell_type": "markdown",
   "id": "926d6e6f-2d63-4376-abc4-655f4a89c23c",
   "metadata": {},
   "source": [
    "## Introduction\n",
    "This notebook introduces various data science tools, libraries, and concepts. It covers some of the most widely used languages and libraries in the field of data science and demonstrates basic operations with these tools.\n"
   ]
  },
  {
   "cell_type": "markdown",
   "id": "f1810cd1-88db-45da-9c1d-5104f49a71a6",
   "metadata": {},
   "source": [
    "## Data Science Languages\n",
    "The following are the most common languages used in Data Science:\n",
    "- Python\n",
    "- R\n",
    "- SQL\n",
    "- Julia\n",
    "- Scala\n"
   ]
  },
  {
   "cell_type": "markdown",
   "id": "786011ff-1f85-441d-991b-4607edb9751f",
   "metadata": {},
   "source": [
    "## Data Science Libraries\n",
    "Some of the popular libraries in Data Science include:\n",
    "- NumPy\n",
    "- pandas\n",
    "- Matplotlib\n",
    "- Scikit-learn\n",
    "- TensorFlow\n",
    "- PyTorch\n"
   ]
  },
  {
   "cell_type": "markdown",
   "id": "bdee219c-3424-4747-9477-395824fd7f06",
   "metadata": {},
   "source": [
    "## Data Science Tools\n",
    "| Tool          | Purpose                    |\n",
    "|---------------|----------------------------|\n",
    "| JupyterLite   | Interactive notebooks      |\n",
    "| VS Code      | Code editing               |\n",
    "| GitHub       | Version control and sharing|\n",
    "| TensorFlow   | Machine learning library   |\n",
    "| RStudio      | IDE for R                   |\n"
   ]
  },
  {
   "cell_type": "markdown",
   "id": "ce4022c3-367e-41c3-9b62-7adac7de282f",
   "metadata": {},
   "source": [
    "## Arithmetic Expression Examples\n",
    "In this section, we will demonstrate some basic arithmetic operations.\n"
   ]
  },
  {
   "cell_type": "code",
   "execution_count": 2,
   "id": "519399fd-aae1-4af4-8407-ffdabfdc90fa",
   "metadata": {},
   "outputs": [
    {
     "data": {
      "text/plain": [
       "(50, 15)"
      ]
     },
     "execution_count": 2,
     "metadata": {},
     "output_type": "execute_result"
    }
   ],
   "source": [
    "# Multiplying and adding numbers\n",
    "a = 5\n",
    "b = 10\n",
    "product = a * b\n",
    "sum_result = a + b\n",
    "\n",
    "product, sum_result\n"
   ]
  },
  {
   "cell_type": "code",
   "execution_count": 3,
   "id": "51beb6c1-2223-442d-9f5b-1d2d5997e4c1",
   "metadata": {},
   "outputs": [
    {
     "data": {
      "text/plain": [
       "2.0"
      ]
     },
     "execution_count": 3,
     "metadata": {},
     "output_type": "execute_result"
    }
   ],
   "source": [
    "# Convert minutes to hours\n",
    "def convert_minutes_to_hours(minutes):\n",
    "    hours = minutes / 60\n",
    "    return hours\n",
    "\n",
    "convert_minutes_to_hours(120)\n"
   ]
  },
  {
   "cell_type": "markdown",
   "id": "ed3effdf-ff8c-4f08-bc81-dbe32161746b",
   "metadata": {},
   "source": [
    "## Objectives\n",
    "The primary objectives of this notebook are:\n",
    "- To introduce common data science languages and libraries.\n",
    "- To demonstrate the use of basic arithmetic expressions.\n",
    "- To explore the conversion of time units.\n",
    "- To familiarize with using JupyterLite and GitHub for sharing notebooks.\n"
   ]
  },
  {
   "cell_type": "markdown",
   "id": "275dd3c7-a78d-4824-aae4-ae18627e634e",
   "metadata": {},
   "source": [
    "## Author\n",
    "This notebook was created by [Maxwell McCutcheon].\n"
   ]
  },
  {
   "cell_type": "markdown",
   "id": "42ce6e4d-2997-44f1-a78e-f6f9e4406774",
   "metadata": {},
   "source": [
    "## GitHub Repository Link\n",
    "You can access the notebook here: [My Jupyter Notebook on GitHub](https://github.com/DroidKillerV2/data-science-notebook/blob/main/Data%20Science%20Tools%20%28Max%20McCutcheon%29.ipynb)\n"
   ]
  },
  {
   "cell_type": "code",
   "execution_count": null,
   "id": "452f1cec-0d41-48be-b0f9-ac7098f0ec05",
   "metadata": {},
   "outputs": [],
   "source": []
  }
 ],
 "metadata": {
  "kernelspec": {
   "display_name": "Python 3 (ipykernel)",
   "language": "python",
   "name": "python3"
  },
  "language_info": {
   "codemirror_mode": {
    "name": "ipython",
    "version": 3
   },
   "file_extension": ".py",
   "mimetype": "text/x-python",
   "name": "python",
   "nbconvert_exporter": "python",
   "pygments_lexer": "ipython3",
   "version": "3.13.1"
  }
 },
 "nbformat": 4,
 "nbformat_minor": 5
}
